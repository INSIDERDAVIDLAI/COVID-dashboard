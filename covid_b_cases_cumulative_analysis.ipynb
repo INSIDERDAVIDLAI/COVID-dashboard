{
 "cells": [
  {
   "cell_type": "code",
   "execution_count": 1,
   "metadata": {},
   "outputs": [
    {
     "ename": "EOFError",
     "evalue": "",
     "output_type": "error",
     "traceback": [
      "\u001B[1;31m---------------------------------------------------------------------------\u001B[0m",
      "\u001B[1;31mEOFError\u001B[0m                                  Traceback (most recent call last)",
      "Input \u001B[1;32mIn [1]\u001B[0m, in \u001B[0;36m<cell line: 15>\u001B[1;34m()\u001B[0m\n\u001B[0;32m     12\u001B[0m \u001B[38;5;28;01mfrom\u001B[39;00m \u001B[38;5;21;01mmatplotlib\u001B[39;00m\u001B[38;5;21;01m.\u001B[39;00m\u001B[38;5;21;01mticker\u001B[39;00m \u001B[38;5;28;01mimport\u001B[39;00m ScalarFormatter\n\u001B[0;32m     14\u001B[0m \u001B[38;5;66;03m# READ CUMULATIVE TABLE\u001B[39;00m\n\u001B[1;32m---> 15\u001B[0m covid_cumulative \u001B[38;5;241m=\u001B[39m \u001B[43mpd\u001B[49m\u001B[38;5;241;43m.\u001B[39;49m\u001B[43mread_excel\u001B[49m\u001B[43m(\u001B[49m\u001B[38;5;124;43m\"\u001B[39;49m\u001B[38;5;124;43mcovid_a_master_cumulative_table.xlsx\u001B[39;49m\u001B[38;5;124;43m\"\u001B[39;49m\u001B[43m)\u001B[49m\n",
      "File \u001B[1;32m~\\anaconda3\\lib\\site-packages\\pandas\\util\\_decorators.py:311\u001B[0m, in \u001B[0;36mdeprecate_nonkeyword_arguments.<locals>.decorate.<locals>.wrapper\u001B[1;34m(*args, **kwargs)\u001B[0m\n\u001B[0;32m    305\u001B[0m \u001B[38;5;28;01mif\u001B[39;00m \u001B[38;5;28mlen\u001B[39m(args) \u001B[38;5;241m>\u001B[39m num_allow_args:\n\u001B[0;32m    306\u001B[0m     warnings\u001B[38;5;241m.\u001B[39mwarn(\n\u001B[0;32m    307\u001B[0m         msg\u001B[38;5;241m.\u001B[39mformat(arguments\u001B[38;5;241m=\u001B[39marguments),\n\u001B[0;32m    308\u001B[0m         \u001B[38;5;167;01mFutureWarning\u001B[39;00m,\n\u001B[0;32m    309\u001B[0m         stacklevel\u001B[38;5;241m=\u001B[39mstacklevel,\n\u001B[0;32m    310\u001B[0m     )\n\u001B[1;32m--> 311\u001B[0m \u001B[38;5;28;01mreturn\u001B[39;00m func(\u001B[38;5;241m*\u001B[39margs, \u001B[38;5;241m*\u001B[39m\u001B[38;5;241m*\u001B[39mkwargs)\n",
      "File \u001B[1;32m~\\anaconda3\\lib\\site-packages\\pandas\\io\\excel\\_base.py:465\u001B[0m, in \u001B[0;36mread_excel\u001B[1;34m(io, sheet_name, header, names, index_col, usecols, squeeze, dtype, engine, converters, true_values, false_values, skiprows, nrows, na_values, keep_default_na, na_filter, verbose, parse_dates, date_parser, thousands, decimal, comment, skipfooter, convert_float, mangle_dupe_cols, storage_options)\u001B[0m\n\u001B[0;32m    459\u001B[0m     \u001B[38;5;28;01mraise\u001B[39;00m \u001B[38;5;167;01mValueError\u001B[39;00m(\n\u001B[0;32m    460\u001B[0m         \u001B[38;5;124m\"\u001B[39m\u001B[38;5;124mEngine should not be specified when passing \u001B[39m\u001B[38;5;124m\"\u001B[39m\n\u001B[0;32m    461\u001B[0m         \u001B[38;5;124m\"\u001B[39m\u001B[38;5;124man ExcelFile - ExcelFile already has the engine set\u001B[39m\u001B[38;5;124m\"\u001B[39m\n\u001B[0;32m    462\u001B[0m     )\n\u001B[0;32m    464\u001B[0m \u001B[38;5;28;01mtry\u001B[39;00m:\n\u001B[1;32m--> 465\u001B[0m     data \u001B[38;5;241m=\u001B[39m \u001B[43mio\u001B[49m\u001B[38;5;241;43m.\u001B[39;49m\u001B[43mparse\u001B[49m\u001B[43m(\u001B[49m\n\u001B[0;32m    466\u001B[0m \u001B[43m        \u001B[49m\u001B[43msheet_name\u001B[49m\u001B[38;5;241;43m=\u001B[39;49m\u001B[43msheet_name\u001B[49m\u001B[43m,\u001B[49m\n\u001B[0;32m    467\u001B[0m \u001B[43m        \u001B[49m\u001B[43mheader\u001B[49m\u001B[38;5;241;43m=\u001B[39;49m\u001B[43mheader\u001B[49m\u001B[43m,\u001B[49m\n\u001B[0;32m    468\u001B[0m \u001B[43m        \u001B[49m\u001B[43mnames\u001B[49m\u001B[38;5;241;43m=\u001B[39;49m\u001B[43mnames\u001B[49m\u001B[43m,\u001B[49m\n\u001B[0;32m    469\u001B[0m \u001B[43m        \u001B[49m\u001B[43mindex_col\u001B[49m\u001B[38;5;241;43m=\u001B[39;49m\u001B[43mindex_col\u001B[49m\u001B[43m,\u001B[49m\n\u001B[0;32m    470\u001B[0m \u001B[43m        \u001B[49m\u001B[43musecols\u001B[49m\u001B[38;5;241;43m=\u001B[39;49m\u001B[43musecols\u001B[49m\u001B[43m,\u001B[49m\n\u001B[0;32m    471\u001B[0m \u001B[43m        \u001B[49m\u001B[43msqueeze\u001B[49m\u001B[38;5;241;43m=\u001B[39;49m\u001B[43msqueeze\u001B[49m\u001B[43m,\u001B[49m\n\u001B[0;32m    472\u001B[0m \u001B[43m        \u001B[49m\u001B[43mdtype\u001B[49m\u001B[38;5;241;43m=\u001B[39;49m\u001B[43mdtype\u001B[49m\u001B[43m,\u001B[49m\n\u001B[0;32m    473\u001B[0m \u001B[43m        \u001B[49m\u001B[43mconverters\u001B[49m\u001B[38;5;241;43m=\u001B[39;49m\u001B[43mconverters\u001B[49m\u001B[43m,\u001B[49m\n\u001B[0;32m    474\u001B[0m \u001B[43m        \u001B[49m\u001B[43mtrue_values\u001B[49m\u001B[38;5;241;43m=\u001B[39;49m\u001B[43mtrue_values\u001B[49m\u001B[43m,\u001B[49m\n\u001B[0;32m    475\u001B[0m \u001B[43m        \u001B[49m\u001B[43mfalse_values\u001B[49m\u001B[38;5;241;43m=\u001B[39;49m\u001B[43mfalse_values\u001B[49m\u001B[43m,\u001B[49m\n\u001B[0;32m    476\u001B[0m \u001B[43m        \u001B[49m\u001B[43mskiprows\u001B[49m\u001B[38;5;241;43m=\u001B[39;49m\u001B[43mskiprows\u001B[49m\u001B[43m,\u001B[49m\n\u001B[0;32m    477\u001B[0m \u001B[43m        \u001B[49m\u001B[43mnrows\u001B[49m\u001B[38;5;241;43m=\u001B[39;49m\u001B[43mnrows\u001B[49m\u001B[43m,\u001B[49m\n\u001B[0;32m    478\u001B[0m \u001B[43m        \u001B[49m\u001B[43mna_values\u001B[49m\u001B[38;5;241;43m=\u001B[39;49m\u001B[43mna_values\u001B[49m\u001B[43m,\u001B[49m\n\u001B[0;32m    479\u001B[0m \u001B[43m        \u001B[49m\u001B[43mkeep_default_na\u001B[49m\u001B[38;5;241;43m=\u001B[39;49m\u001B[43mkeep_default_na\u001B[49m\u001B[43m,\u001B[49m\n\u001B[0;32m    480\u001B[0m \u001B[43m        \u001B[49m\u001B[43mna_filter\u001B[49m\u001B[38;5;241;43m=\u001B[39;49m\u001B[43mna_filter\u001B[49m\u001B[43m,\u001B[49m\n\u001B[0;32m    481\u001B[0m \u001B[43m        \u001B[49m\u001B[43mverbose\u001B[49m\u001B[38;5;241;43m=\u001B[39;49m\u001B[43mverbose\u001B[49m\u001B[43m,\u001B[49m\n\u001B[0;32m    482\u001B[0m \u001B[43m        \u001B[49m\u001B[43mparse_dates\u001B[49m\u001B[38;5;241;43m=\u001B[39;49m\u001B[43mparse_dates\u001B[49m\u001B[43m,\u001B[49m\n\u001B[0;32m    483\u001B[0m \u001B[43m        \u001B[49m\u001B[43mdate_parser\u001B[49m\u001B[38;5;241;43m=\u001B[39;49m\u001B[43mdate_parser\u001B[49m\u001B[43m,\u001B[49m\n\u001B[0;32m    484\u001B[0m \u001B[43m        \u001B[49m\u001B[43mthousands\u001B[49m\u001B[38;5;241;43m=\u001B[39;49m\u001B[43mthousands\u001B[49m\u001B[43m,\u001B[49m\n\u001B[0;32m    485\u001B[0m \u001B[43m        \u001B[49m\u001B[43mdecimal\u001B[49m\u001B[38;5;241;43m=\u001B[39;49m\u001B[43mdecimal\u001B[49m\u001B[43m,\u001B[49m\n\u001B[0;32m    486\u001B[0m \u001B[43m        \u001B[49m\u001B[43mcomment\u001B[49m\u001B[38;5;241;43m=\u001B[39;49m\u001B[43mcomment\u001B[49m\u001B[43m,\u001B[49m\n\u001B[0;32m    487\u001B[0m \u001B[43m        \u001B[49m\u001B[43mskipfooter\u001B[49m\u001B[38;5;241;43m=\u001B[39;49m\u001B[43mskipfooter\u001B[49m\u001B[43m,\u001B[49m\n\u001B[0;32m    488\u001B[0m \u001B[43m        \u001B[49m\u001B[43mconvert_float\u001B[49m\u001B[38;5;241;43m=\u001B[39;49m\u001B[43mconvert_float\u001B[49m\u001B[43m,\u001B[49m\n\u001B[0;32m    489\u001B[0m \u001B[43m        \u001B[49m\u001B[43mmangle_dupe_cols\u001B[49m\u001B[38;5;241;43m=\u001B[39;49m\u001B[43mmangle_dupe_cols\u001B[49m\u001B[43m,\u001B[49m\n\u001B[0;32m    490\u001B[0m \u001B[43m    \u001B[49m\u001B[43m)\u001B[49m\n\u001B[0;32m    491\u001B[0m \u001B[38;5;28;01mfinally\u001B[39;00m:\n\u001B[0;32m    492\u001B[0m     \u001B[38;5;66;03m# make sure to close opened file handles\u001B[39;00m\n\u001B[0;32m    493\u001B[0m     \u001B[38;5;28;01mif\u001B[39;00m should_close:\n",
      "File \u001B[1;32m~\\anaconda3\\lib\\site-packages\\pandas\\io\\excel\\_base.py:1458\u001B[0m, in \u001B[0;36mExcelFile.parse\u001B[1;34m(self, sheet_name, header, names, index_col, usecols, squeeze, converters, true_values, false_values, skiprows, nrows, na_values, parse_dates, date_parser, thousands, comment, skipfooter, convert_float, mangle_dupe_cols, **kwds)\u001B[0m\n\u001B[0;32m   1424\u001B[0m \u001B[38;5;28;01mdef\u001B[39;00m \u001B[38;5;21mparse\u001B[39m(\n\u001B[0;32m   1425\u001B[0m     \u001B[38;5;28mself\u001B[39m,\n\u001B[0;32m   1426\u001B[0m     sheet_name: \u001B[38;5;28mstr\u001B[39m \u001B[38;5;241m|\u001B[39m \u001B[38;5;28mint\u001B[39m \u001B[38;5;241m|\u001B[39m \u001B[38;5;28mlist\u001B[39m[\u001B[38;5;28mint\u001B[39m] \u001B[38;5;241m|\u001B[39m \u001B[38;5;28mlist\u001B[39m[\u001B[38;5;28mstr\u001B[39m] \u001B[38;5;241m|\u001B[39m \u001B[38;5;28;01mNone\u001B[39;00m \u001B[38;5;241m=\u001B[39m \u001B[38;5;241m0\u001B[39m,\n\u001B[1;32m   (...)\u001B[0m\n\u001B[0;32m   1445\u001B[0m     \u001B[38;5;241m*\u001B[39m\u001B[38;5;241m*\u001B[39mkwds,\n\u001B[0;32m   1446\u001B[0m ) \u001B[38;5;241m-\u001B[39m\u001B[38;5;241m>\u001B[39m DataFrame \u001B[38;5;241m|\u001B[39m \u001B[38;5;28mdict\u001B[39m[\u001B[38;5;28mstr\u001B[39m, DataFrame] \u001B[38;5;241m|\u001B[39m \u001B[38;5;28mdict\u001B[39m[\u001B[38;5;28mint\u001B[39m, DataFrame]:\n\u001B[0;32m   1447\u001B[0m     \u001B[38;5;124;03m\"\"\"\u001B[39;00m\n\u001B[0;32m   1448\u001B[0m \u001B[38;5;124;03m    Parse specified sheet(s) into a DataFrame.\u001B[39;00m\n\u001B[0;32m   1449\u001B[0m \n\u001B[1;32m   (...)\u001B[0m\n\u001B[0;32m   1456\u001B[0m \u001B[38;5;124;03m        DataFrame from the passed in Excel file.\u001B[39;00m\n\u001B[0;32m   1457\u001B[0m \u001B[38;5;124;03m    \"\"\"\u001B[39;00m\n\u001B[1;32m-> 1458\u001B[0m     \u001B[38;5;28;01mreturn\u001B[39;00m \u001B[38;5;28mself\u001B[39m\u001B[38;5;241m.\u001B[39m_reader\u001B[38;5;241m.\u001B[39mparse(\n\u001B[0;32m   1459\u001B[0m         sheet_name\u001B[38;5;241m=\u001B[39msheet_name,\n\u001B[0;32m   1460\u001B[0m         header\u001B[38;5;241m=\u001B[39mheader,\n\u001B[0;32m   1461\u001B[0m         names\u001B[38;5;241m=\u001B[39mnames,\n\u001B[0;32m   1462\u001B[0m         index_col\u001B[38;5;241m=\u001B[39mindex_col,\n\u001B[0;32m   1463\u001B[0m         usecols\u001B[38;5;241m=\u001B[39musecols,\n\u001B[0;32m   1464\u001B[0m         squeeze\u001B[38;5;241m=\u001B[39msqueeze,\n\u001B[0;32m   1465\u001B[0m         converters\u001B[38;5;241m=\u001B[39mconverters,\n\u001B[0;32m   1466\u001B[0m         true_values\u001B[38;5;241m=\u001B[39mtrue_values,\n\u001B[0;32m   1467\u001B[0m         false_values\u001B[38;5;241m=\u001B[39mfalse_values,\n\u001B[0;32m   1468\u001B[0m         skiprows\u001B[38;5;241m=\u001B[39mskiprows,\n\u001B[0;32m   1469\u001B[0m         nrows\u001B[38;5;241m=\u001B[39mnrows,\n\u001B[0;32m   1470\u001B[0m         na_values\u001B[38;5;241m=\u001B[39mna_values,\n\u001B[0;32m   1471\u001B[0m         parse_dates\u001B[38;5;241m=\u001B[39mparse_dates,\n\u001B[0;32m   1472\u001B[0m         date_parser\u001B[38;5;241m=\u001B[39mdate_parser,\n\u001B[0;32m   1473\u001B[0m         thousands\u001B[38;5;241m=\u001B[39mthousands,\n\u001B[0;32m   1474\u001B[0m         comment\u001B[38;5;241m=\u001B[39mcomment,\n\u001B[0;32m   1475\u001B[0m         skipfooter\u001B[38;5;241m=\u001B[39mskipfooter,\n\u001B[0;32m   1476\u001B[0m         convert_float\u001B[38;5;241m=\u001B[39mconvert_float,\n\u001B[0;32m   1477\u001B[0m         mangle_dupe_cols\u001B[38;5;241m=\u001B[39mmangle_dupe_cols,\n\u001B[0;32m   1478\u001B[0m         \u001B[38;5;241m*\u001B[39m\u001B[38;5;241m*\u001B[39mkwds,\n\u001B[0;32m   1479\u001B[0m     )\n",
      "File \u001B[1;32m~\\anaconda3\\lib\\site-packages\\pandas\\io\\excel\\_base.py:638\u001B[0m, in \u001B[0;36mBaseExcelReader.parse\u001B[1;34m(self, sheet_name, header, names, index_col, usecols, squeeze, dtype, true_values, false_values, skiprows, nrows, na_values, verbose, parse_dates, date_parser, thousands, decimal, comment, skipfooter, convert_float, mangle_dupe_cols, **kwds)\u001B[0m\n\u001B[0;32m    635\u001B[0m \u001B[38;5;28;01melse\u001B[39;00m:  \u001B[38;5;66;03m# assume an integer if not a string\u001B[39;00m\n\u001B[0;32m    636\u001B[0m     sheet \u001B[38;5;241m=\u001B[39m \u001B[38;5;28mself\u001B[39m\u001B[38;5;241m.\u001B[39mget_sheet_by_index(asheetname)\n\u001B[1;32m--> 638\u001B[0m data \u001B[38;5;241m=\u001B[39m \u001B[38;5;28;43mself\u001B[39;49m\u001B[38;5;241;43m.\u001B[39;49m\u001B[43mget_sheet_data\u001B[49m\u001B[43m(\u001B[49m\u001B[43msheet\u001B[49m\u001B[43m,\u001B[49m\u001B[43m \u001B[49m\u001B[43mconvert_float\u001B[49m\u001B[43m)\u001B[49m\n\u001B[0;32m    639\u001B[0m \u001B[38;5;28;01mif\u001B[39;00m \u001B[38;5;28mhasattr\u001B[39m(sheet, \u001B[38;5;124m\"\u001B[39m\u001B[38;5;124mclose\u001B[39m\u001B[38;5;124m\"\u001B[39m):\n\u001B[0;32m    640\u001B[0m     \u001B[38;5;66;03m# pyxlsb opens two TemporaryFiles\u001B[39;00m\n\u001B[0;32m    641\u001B[0m     sheet\u001B[38;5;241m.\u001B[39mclose()\n",
      "File \u001B[1;32m~\\anaconda3\\lib\\site-packages\\pandas\\io\\excel\\_openpyxl.py:575\u001B[0m, in \u001B[0;36mOpenpyxlReader.get_sheet_data\u001B[1;34m(self, sheet, convert_float)\u001B[0m\n\u001B[0;32m    573\u001B[0m data: \u001B[38;5;28mlist\u001B[39m[\u001B[38;5;28mlist\u001B[39m[Scalar]] \u001B[38;5;241m=\u001B[39m []\n\u001B[0;32m    574\u001B[0m last_row_with_data \u001B[38;5;241m=\u001B[39m \u001B[38;5;241m-\u001B[39m\u001B[38;5;241m1\u001B[39m\n\u001B[1;32m--> 575\u001B[0m \u001B[38;5;28;01mfor\u001B[39;00m row_number, row \u001B[38;5;129;01min\u001B[39;00m \u001B[38;5;28menumerate\u001B[39m(sheet\u001B[38;5;241m.\u001B[39mrows):\n\u001B[0;32m    576\u001B[0m     converted_row \u001B[38;5;241m=\u001B[39m [\u001B[38;5;28mself\u001B[39m\u001B[38;5;241m.\u001B[39m_convert_cell(cell, convert_float) \u001B[38;5;28;01mfor\u001B[39;00m cell \u001B[38;5;129;01min\u001B[39;00m row]\n\u001B[0;32m    577\u001B[0m     \u001B[38;5;28;01mwhile\u001B[39;00m converted_row \u001B[38;5;129;01mand\u001B[39;00m converted_row[\u001B[38;5;241m-\u001B[39m\u001B[38;5;241m1\u001B[39m] \u001B[38;5;241m==\u001B[39m \u001B[38;5;124m\"\u001B[39m\u001B[38;5;124m\"\u001B[39m:\n\u001B[0;32m    578\u001B[0m         \u001B[38;5;66;03m# trim trailing empty elements\u001B[39;00m\n",
      "File \u001B[1;32m~\\anaconda3\\lib\\site-packages\\openpyxl\\worksheet\\_read_only.py:79\u001B[0m, in \u001B[0;36mReadOnlyWorksheet._cells_by_row\u001B[1;34m(self, min_col, min_row, max_col, max_row, values_only)\u001B[0m\n\u001B[0;32m     75\u001B[0m src \u001B[38;5;241m=\u001B[39m \u001B[38;5;28mself\u001B[39m\u001B[38;5;241m.\u001B[39m_get_source()\n\u001B[0;32m     76\u001B[0m parser \u001B[38;5;241m=\u001B[39m WorkSheetParser(src, \u001B[38;5;28mself\u001B[39m\u001B[38;5;241m.\u001B[39m_shared_strings,\n\u001B[0;32m     77\u001B[0m                          data_only\u001B[38;5;241m=\u001B[39m\u001B[38;5;28mself\u001B[39m\u001B[38;5;241m.\u001B[39mparent\u001B[38;5;241m.\u001B[39mdata_only, epoch\u001B[38;5;241m=\u001B[39m\u001B[38;5;28mself\u001B[39m\u001B[38;5;241m.\u001B[39mparent\u001B[38;5;241m.\u001B[39mepoch,\n\u001B[0;32m     78\u001B[0m                          date_formats\u001B[38;5;241m=\u001B[39m\u001B[38;5;28mself\u001B[39m\u001B[38;5;241m.\u001B[39mparent\u001B[38;5;241m.\u001B[39m_date_formats)\n\u001B[1;32m---> 79\u001B[0m \u001B[38;5;28;01mfor\u001B[39;00m idx, row \u001B[38;5;129;01min\u001B[39;00m parser\u001B[38;5;241m.\u001B[39mparse():\n\u001B[0;32m     80\u001B[0m     \u001B[38;5;28;01mif\u001B[39;00m max_row \u001B[38;5;129;01mis\u001B[39;00m \u001B[38;5;129;01mnot\u001B[39;00m \u001B[38;5;28;01mNone\u001B[39;00m \u001B[38;5;129;01mand\u001B[39;00m idx \u001B[38;5;241m>\u001B[39m max_row:\n\u001B[0;32m     81\u001B[0m         \u001B[38;5;28;01mbreak\u001B[39;00m\n",
      "File \u001B[1;32m~\\anaconda3\\lib\\site-packages\\openpyxl\\worksheet\\_reader.py:144\u001B[0m, in \u001B[0;36mWorkSheetParser.parse\u001B[1;34m(self)\u001B[0m\n\u001B[0;32m    125\u001B[0m properties \u001B[38;5;241m=\u001B[39m {\n\u001B[0;32m    126\u001B[0m     PRINT_TAG: (\u001B[38;5;124m'\u001B[39m\u001B[38;5;124mprint_options\u001B[39m\u001B[38;5;124m'\u001B[39m, PrintOptions),\n\u001B[0;32m    127\u001B[0m     MARGINS_TAG: (\u001B[38;5;124m'\u001B[39m\u001B[38;5;124mpage_margins\u001B[39m\u001B[38;5;124m'\u001B[39m, PageMargins),\n\u001B[1;32m   (...)\u001B[0m\n\u001B[0;32m    139\u001B[0m \n\u001B[0;32m    140\u001B[0m }\n\u001B[0;32m    142\u001B[0m it \u001B[38;5;241m=\u001B[39m iterparse(\u001B[38;5;28mself\u001B[39m\u001B[38;5;241m.\u001B[39msource) \u001B[38;5;66;03m# add a finaliser to close the source when this becomes possible\u001B[39;00m\n\u001B[1;32m--> 144\u001B[0m \u001B[38;5;28;01mfor\u001B[39;00m _, element \u001B[38;5;129;01min\u001B[39;00m it:\n\u001B[0;32m    145\u001B[0m     tag_name \u001B[38;5;241m=\u001B[39m element\u001B[38;5;241m.\u001B[39mtag\n\u001B[0;32m    146\u001B[0m     \u001B[38;5;28;01mif\u001B[39;00m tag_name \u001B[38;5;129;01min\u001B[39;00m dispatcher:\n",
      "File \u001B[1;32m~\\anaconda3\\lib\\xml\\etree\\ElementTree.py:1262\u001B[0m, in \u001B[0;36miterparse.<locals>.iterator\u001B[1;34m(source)\u001B[0m\n\u001B[0;32m   1260\u001B[0m \u001B[38;5;28;01myield from\u001B[39;00m pullparser\u001B[38;5;241m.\u001B[39mread_events()\n\u001B[0;32m   1261\u001B[0m \u001B[38;5;66;03m# load event buffer\u001B[39;00m\n\u001B[1;32m-> 1262\u001B[0m data \u001B[38;5;241m=\u001B[39m \u001B[43msource\u001B[49m\u001B[38;5;241;43m.\u001B[39;49m\u001B[43mread\u001B[49m\u001B[43m(\u001B[49m\u001B[38;5;241;43m16\u001B[39;49m\u001B[43m \u001B[49m\u001B[38;5;241;43m*\u001B[39;49m\u001B[43m \u001B[49m\u001B[38;5;241;43m1024\u001B[39;49m\u001B[43m)\u001B[49m\n\u001B[0;32m   1263\u001B[0m \u001B[38;5;28;01mif\u001B[39;00m \u001B[38;5;129;01mnot\u001B[39;00m data:\n\u001B[0;32m   1264\u001B[0m     \u001B[38;5;28;01mbreak\u001B[39;00m\n",
      "File \u001B[1;32m~\\anaconda3\\lib\\zipfile.py:924\u001B[0m, in \u001B[0;36mZipExtFile.read\u001B[1;34m(self, n)\u001B[0m\n\u001B[0;32m    922\u001B[0m \u001B[38;5;28mself\u001B[39m\u001B[38;5;241m.\u001B[39m_offset \u001B[38;5;241m=\u001B[39m \u001B[38;5;241m0\u001B[39m\n\u001B[0;32m    923\u001B[0m \u001B[38;5;28;01mwhile\u001B[39;00m n \u001B[38;5;241m>\u001B[39m \u001B[38;5;241m0\u001B[39m \u001B[38;5;129;01mand\u001B[39;00m \u001B[38;5;129;01mnot\u001B[39;00m \u001B[38;5;28mself\u001B[39m\u001B[38;5;241m.\u001B[39m_eof:\n\u001B[1;32m--> 924\u001B[0m     data \u001B[38;5;241m=\u001B[39m \u001B[38;5;28;43mself\u001B[39;49m\u001B[38;5;241;43m.\u001B[39;49m\u001B[43m_read1\u001B[49m\u001B[43m(\u001B[49m\u001B[43mn\u001B[49m\u001B[43m)\u001B[49m\n\u001B[0;32m    925\u001B[0m     \u001B[38;5;28;01mif\u001B[39;00m n \u001B[38;5;241m<\u001B[39m \u001B[38;5;28mlen\u001B[39m(data):\n\u001B[0;32m    926\u001B[0m         \u001B[38;5;28mself\u001B[39m\u001B[38;5;241m.\u001B[39m_readbuffer \u001B[38;5;241m=\u001B[39m data\n",
      "File \u001B[1;32m~\\anaconda3\\lib\\zipfile.py:992\u001B[0m, in \u001B[0;36mZipExtFile._read1\u001B[1;34m(self, n)\u001B[0m\n\u001B[0;32m    990\u001B[0m     data \u001B[38;5;241m=\u001B[39m \u001B[38;5;28mself\u001B[39m\u001B[38;5;241m.\u001B[39m_decompressor\u001B[38;5;241m.\u001B[39munconsumed_tail\n\u001B[0;32m    991\u001B[0m     \u001B[38;5;28;01mif\u001B[39;00m n \u001B[38;5;241m>\u001B[39m \u001B[38;5;28mlen\u001B[39m(data):\n\u001B[1;32m--> 992\u001B[0m         data \u001B[38;5;241m+\u001B[39m\u001B[38;5;241m=\u001B[39m \u001B[38;5;28;43mself\u001B[39;49m\u001B[38;5;241;43m.\u001B[39;49m\u001B[43m_read2\u001B[49m\u001B[43m(\u001B[49m\u001B[43mn\u001B[49m\u001B[43m \u001B[49m\u001B[38;5;241;43m-\u001B[39;49m\u001B[43m \u001B[49m\u001B[38;5;28;43mlen\u001B[39;49m\u001B[43m(\u001B[49m\u001B[43mdata\u001B[49m\u001B[43m)\u001B[49m\u001B[43m)\u001B[49m\n\u001B[0;32m    993\u001B[0m \u001B[38;5;28;01melse\u001B[39;00m:\n\u001B[0;32m    994\u001B[0m     data \u001B[38;5;241m=\u001B[39m \u001B[38;5;28mself\u001B[39m\u001B[38;5;241m.\u001B[39m_read2(n)\n",
      "File \u001B[1;32m~\\anaconda3\\lib\\zipfile.py:1027\u001B[0m, in \u001B[0;36mZipExtFile._read2\u001B[1;34m(self, n)\u001B[0m\n\u001B[0;32m   1025\u001B[0m \u001B[38;5;28mself\u001B[39m\u001B[38;5;241m.\u001B[39m_compress_left \u001B[38;5;241m-\u001B[39m\u001B[38;5;241m=\u001B[39m \u001B[38;5;28mlen\u001B[39m(data)\n\u001B[0;32m   1026\u001B[0m \u001B[38;5;28;01mif\u001B[39;00m \u001B[38;5;129;01mnot\u001B[39;00m data:\n\u001B[1;32m-> 1027\u001B[0m     \u001B[38;5;28;01mraise\u001B[39;00m \u001B[38;5;167;01mEOFError\u001B[39;00m\n\u001B[0;32m   1029\u001B[0m \u001B[38;5;28;01mif\u001B[39;00m \u001B[38;5;28mself\u001B[39m\u001B[38;5;241m.\u001B[39m_decrypter \u001B[38;5;129;01mis\u001B[39;00m \u001B[38;5;129;01mnot\u001B[39;00m \u001B[38;5;28;01mNone\u001B[39;00m:\n\u001B[0;32m   1030\u001B[0m     data \u001B[38;5;241m=\u001B[39m \u001B[38;5;28mself\u001B[39m\u001B[38;5;241m.\u001B[39m_decrypter(data)\n",
      "\u001B[1;31mEOFError\u001B[0m: "
     ]
    }
   ],
   "source": [
    "# Data from here:\n",
    "# https://www.ecdc.europa.eu/en/publications-data/download-todays-data-geographic-distribution-covid-19-cases-worldwide\n",
    "import pandas as pd\n",
    "import numpy as np\n",
    "import seaborn as sns\n",
    "from scipy import stats\n",
    "import matplotlib\n",
    "import matplotlib.pyplot as plt\n",
    "import matplotlib.ticker as mticker\n",
    "import matplotlib.dates as mdates\n",
    "from adjustText import adjust_text\n",
    "from matplotlib.ticker import ScalarFormatter\n",
    "\n",
    "# READ CUMULATIVE TABLE\n",
    "covid_cumulative = pd.read_excel(\"covid_a_master_cumulative_table.xlsx\")"
   ]
  },
  {
   "cell_type": "markdown",
   "metadata": {},
   "source": [
    "## FILTER THE LAST DAY OF THE RESULTS AND PICK THE TOP N IN # OF CASES"
   ]
  },
  {
   "cell_type": "code",
   "execution_count": null,
   "metadata": {},
   "outputs": [],
   "source": [
    "# This part is necessary instead of simply ['Date'].max() because some countries do not report on certain days (e.g. Spain on Sundays) -- FIXED BUG\n",
    "last_day_per_country = covid_cumulative.groupby(by=['Countries'])['Date'].max() # type(last_day_per_country) is pandas.Series\n",
    "last_day_per_country = last_day_per_country.to_frame() # We convert it to pandas.DataFrame\n",
    "last_day_per_country.reset_index(inplace=True) # And reset the index so that we can further join on 'Countries'"
   ]
  },
  {
   "cell_type": "code",
   "execution_count": null,
   "metadata": {},
   "outputs": [],
   "source": [
    "# N: HOW MANY TOP COUNTRIES YOU WANT TO PICK IN TERMS OF # OF CASES\n",
    "N = 25\n",
    "last_day = pd.merge(covid_cumulative, last_day_per_country, how='inner', left_on = ['Countries', 'Date'], right_on = ['Countries', 'Date'])\n",
    "last_day = last_day.sort_values('Cases', ascending=False)\n",
    "last_day\n",
    "top_countries = last_day[:N]['Countries'].tolist()\n",
    "top_countries"
   ]
  },
  {
   "cell_type": "markdown",
   "metadata": {},
   "source": [
    "## FURTHER FILTER THE TOP N COUNTRIES WITH >K CASES\n"
   ]
  },
  {
   "cell_type": "code",
   "execution_count": null,
   "metadata": {},
   "outputs": [],
   "source": [
    "# K: HOW MANY CASES YOU CONSIDER THE DAY 0\n",
    "K = 100\n",
    "covid_top_countries = covid_cumulative[covid_cumulative.Countries.isin(top_countries)]\n",
    "covid_top_countries = covid_top_countries[covid_top_countries['Cases'] > K]\n",
    "# covid_top_countries"
   ]
  },
  {
   "cell_type": "code",
   "execution_count": null,
   "metadata": {},
   "outputs": [],
   "source": [
    "# FIND THE DATE THAT THE FIRST K CASES WERE IDENTIFIED\n",
    "day_0_for_every_country = covid_top_countries.groupby(by=['Countries']).min()\n",
    "day_0_for_every_country = day_0_for_every_country['Date']"
   ]
  },
  {
   "cell_type": "code",
   "execution_count": null,
   "metadata": {},
   "outputs": [],
   "source": [
    "# MERGE THE TWO TO GET THE DAY_0 IN THE df, AND CALCULATE THE DAYS_FROM_0\n",
    "covid_top_countries = covid_top_countries.merge(day_0_for_every_country, how='inner', on='Countries')\n",
    "covid_top_countries.rename(columns = {'Date_y': 'Day_0'}, inplace = True)\n",
    "covid_top_countries['Days_from_0'] = (covid_top_countries['Date_x'] - covid_top_countries['Day_0']).dt.days\n",
    "# covid_top_countries = covid_top_countries[covid_top_countries['Days_from_0']<150]\n",
    "covid_top_countries"
   ]
  },
  {
   "cell_type": "markdown",
   "metadata": {},
   "source": [
    "### CREATE THE MAX_CASES DF TO USE IT IN LABELING THE GRAPHS"
   ]
  },
  {
   "cell_type": "code",
   "execution_count": null,
   "metadata": {},
   "outputs": [],
   "source": [
    "max_cases = covid_top_countries.groupby(by=['Countries']).max()\n",
    "max_cases['Case_fatality_rate'] = max_cases['Deaths']/max_cases['Cases']*100\n",
    "max_cases.sort_values('Cases', ascending=False)\n",
    "max_cases['Infection_rate_per_1m'] = max_cases['Cases']/max_cases['Population']*1000000\n",
    "max_cases['Mortality_rate_per_1m'] = max_cases['Deaths']/max_cases['Population']*1000000\n",
    "max_cases.drop('Unnamed: 0', axis = 1, inplace = True)\n",
    "max_cases.to_excel('covid_b_max_cases.xlsx')"
   ]
  },
  {
   "cell_type": "markdown",
   "metadata": {},
   "source": [
    "### Create the data to plot the dashed lines of doubling slopes: 1, 2, 3, 7 days. Formula for doubling: \\\\(K*2^{(days)}\\\\)"
   ]
  },
  {
   "cell_type": "code",
   "execution_count": null,
   "metadata": {},
   "outputs": [],
   "source": [
    "# FUNCTION THAT GIVES YOU THE DOUBLING SLOPE OF 1, 2, 3, 7 DAYS\n",
    "x1 = np.array([0, 15])\n",
    "x2 = np.array([0, 30])\n",
    "x3 = np.array([0, 45])\n",
    "x7 = np.array([0, 105])\n",
    "\n",
    "y_1 = np.array([K, K*2**(x1[1])])\n",
    "y_2 = np.array([K, K*2**(x2[1]/2)])\n",
    "y_3 = np.array([K, K*2**(x3[1]/3)])\n",
    "y_7 = np.array([K, K*2**(x7[1]/7)])"
   ]
  },
  {
   "cell_type": "code",
   "execution_count": null,
   "metadata": {},
   "outputs": [],
   "source": [
    "sns.set(rc={'figure.figsize':(16,8)}, font_scale = 2)\n",
    "style = dict(size=10, color='gray')\n",
    "\n",
    "ax = sns.lineplot(x=\"Days_from_0\", y=\"Cases\", hue=\"Countries\", data=covid_top_countries, markers=True, hue_order=top_countries, legend=False)\n",
    "ax.set_yscale('log')\n",
    "plt.grid(True, which='both')\n",
    "ax.plot(x1, y_1, 'k--')\n",
    "ax.plot(x2, y_2, 'k--')\n",
    "ax.plot(x3, y_3, 'k--')\n",
    "ax.plot(x7, y_7, 'k--')\n",
    "ax.set_xlabel(\"Days from Day 0\",fontsize=30)\n",
    "ax.set_ylabel(\"Number of Cases\",fontsize=30)\n",
    "ax.xaxis.set_major_formatter(ScalarFormatter())\n",
    "ax.yaxis.set_major_formatter(matplotlib.ticker.StrMethodFormatter('{x:,.0f}'))\n",
    "# plt.xlim([0, 150])\n",
    "plt.text(20, 100, 'Day 0: the day at which the cumulative cases count exceeded {:.0f}'.format(K), fontsize=16)\n",
    "plt.text(x1.max(), y_1.max(), '2x EVERY\\n1 DAY', ha = 'center', fontsize=16)\n",
    "plt.text(x2.max(), y_2.max(), '2x EVERY\\n2 DAYS', ha = 'center', fontsize=16)\n",
    "plt.text(x3.max(), y_3.max(), '2x EVERY\\n3 DAYS', ha = 'left', fontsize=16)\n",
    "plt.text(x7.max(), y_7.max(), '2x EVERY\\n7 DAYS', ha = 'left', fontsize=16)\n",
    "texts = [plt.text(max_cases.loc[str(country)]['Days_from_0'], max_cases.loc[str(country)]['Cases'], str(country), fontsize=16, color=ax.get_lines()[top_countries.index(country)].get_c(), ha = 'center', va = 'center') for country in top_countries]\n",
    "adjust_text(texts)\n",
    "\n",
    "plt.savefig('covid_b_cases_daily.png')"
   ]
  },
  {
   "cell_type": "code",
   "execution_count": null,
   "metadata": {},
   "outputs": [],
   "source": [
    "Average_infection_rate_per_1m = max_cases['Cases'].sum()/max_cases['Population'].sum()*1000000\n",
    "print(\"The average infection rate is: {:.1f} per 1m people\".format(Average_infection_rate_per_1m))\n",
    "Average_death_rate_per_1m = max_cases['Deaths'].sum()/max_cases['Population'].sum()*1000000\n",
    "print(\"The average death rate is: {:.1f} per 1m people\".format(Average_death_rate_per_1m))\n",
    "Average_mortality_per_cent_infected = max_cases['Deaths'].sum()/max_cases['Cases'].sum()*100\n",
    "print(\"The average mortality rate is: {:.1f} per 100 people infected\".format(Average_mortality_per_cent_infected))"
   ]
  },
  {
   "cell_type": "markdown",
   "metadata": {},
   "source": [
    "## CALCULATE THE RATE OF CHANGE"
   ]
  },
  {
   "cell_type": "code",
   "execution_count": null,
   "metadata": {},
   "outputs": [],
   "source": [
    "# back_calc IS THE BACK WINDOW THAT IS USED TO CALCULATE THE SLOPE\n",
    "back_calc = 7\n",
    "slope_df = pd.DataFrame(columns=['Countries', 'Days_from_0', 'Slope', 'R2', 'P_value'])\n",
    "\n",
    "for country in top_countries:\n",
    "    one_country_data = covid_top_countries[covid_top_countries['Countries'] == str(country)].reset_index(drop=True)\n",
    "#     one_country_data['log_cases'] = np.log10(one_country_data['Cases'])\n",
    "    for i in np.arange(back_calc, len(one_country_data)+1):\n",
    "        x = one_country_data.loc[i-back_calc: i, 'Days_from_0'] # That is the 'Days_from_0'\n",
    "        y = one_country_data.loc[i-back_calc: i, 'Cases'] # \n",
    "        slope, intercept, r_value, p_value, std_err = stats.linregress(x,y)\n",
    "        one_country_data.loc[i-1, 'Slope'] = slope\n",
    "        one_country_data.loc[i-1, 'R2'] = r_value * r_value\n",
    "        one_country_data.loc[i-1, 'P_value'] = p_value\n",
    "        one_country = one_country_data[['Countries', 'Days_from_0', 'Slope', 'R2', 'P_value']]\n",
    "    \n",
    "    slope_df = slope_df.append(one_country, ignore_index=False)\n",
    "    \n",
    "slope_df.head(15)"
   ]
  },
  {
   "cell_type": "code",
   "execution_count": null,
   "metadata": {},
   "outputs": [],
   "source": [
    "slope_df.set_index('Countries', drop=False, inplace=True)\n",
    "slope_df.to_excel('covid_b_slope_daily.xlsx')"
   ]
  },
  {
   "cell_type": "code",
   "execution_count": null,
   "metadata": {},
   "outputs": [],
   "source": [
    "slope_df.index.name = None\n",
    "max_slope = slope_df.groupby(by=['Countries']).max()\n",
    "max_slope = max_slope.sort_values('Slope', ascending=False)\n",
    "max_slope['Countries'] = max_slope.index\n",
    "\n",
    "data_1_5 = slope_df[slope_df.Countries.isin(max_slope[:5]['Countries'].tolist())]\n",
    "countries_1_5 = max_slope[:5]['Countries'].tolist()\n",
    "data_6_10 = slope_df[slope_df.Countries.isin(max_slope[5:10]['Countries'].tolist())]\n",
    "countries_6_10 = max_slope[5:10]['Countries'].tolist()\n",
    "data_11_15 = slope_df[slope_df.Countries.isin(max_slope[10:15]['Countries'].tolist())]\n",
    "countries_11_15 = max_slope[10:15]['Countries'].tolist()\n",
    "data_16_20 = slope_df[slope_df.Countries.isin(max_slope[15:20]['Countries'].tolist())]\n",
    "countries_16_20 = max_slope[15:20]['Countries'].tolist()\n",
    "max_slope"
   ]
  },
  {
   "cell_type": "code",
   "execution_count": null,
   "metadata": {},
   "outputs": [],
   "source": [
    "sns.set(rc={'figure.figsize':(16,16)}, font_scale = 2)\n",
    "fig, axes = plt.subplots(2, 2)\n",
    "\n",
    "sns.lineplot(x=\"Days_from_0\", y=\"Slope\", hue=\"Countries\", data=data_1_5, markers=True, hue_order=countries_1_5, legend=False, ax=axes[0, 0])\n",
    "texts = [axes[0, 0].text(max_cases.loc[str(country)]['Days_from_0'], slope_df.loc[str(country)]['Slope'].iloc[-1], str(country), fontsize=16, color=axes[0, 0].get_lines()[countries_1_5.index(country)].get_c(), ha = 'left', va = 'center') for country in countries_1_5]\n",
    "adjust_text(texts)\n",
    "axes[0, 0].set_ylabel(\"Cases per day-trend\",fontsize=24)\n",
    "\n",
    "sns.lineplot(x=\"Days_from_0\", y=\"Slope\", hue=\"Countries\", data=data_6_10, markers=True, hue_order=countries_6_10, legend=False, ax=axes[0, 1])\n",
    "texts = [axes[0, 1].text(max_cases.loc[str(country)]['Days_from_0'], slope_df.loc[str(country)]['Slope'].iloc[-1], str(country), fontsize=16, color=axes[0, 1].get_lines()[countries_6_10.index(country)].get_c(), ha = 'left', va = 'top') for country in countries_6_10]\n",
    "adjust_text(texts)\n",
    "\n",
    "sns.lineplot(x=\"Days_from_0\", y=\"Slope\", hue=\"Countries\", data=data_11_15, markers=True, hue_order=countries_11_15, legend=False, ax=axes[1, 0])\n",
    "texts = [axes[1, 0].text(max_cases.loc[str(country)]['Days_from_0'], slope_df.loc[str(country)]['Slope'].iloc[-1], str(country), fontsize=16, color=axes[1, 0].get_lines()[countries_11_15.index(country)].get_c(), ha = 'left', va = 'center') for country in countries_11_15]\n",
    "adjust_text(texts)\n",
    "axes[1, 0].set_ylabel(\"Cases per day-trend\",fontsize=24)\n",
    "axes[1, 0].set_xlabel(\"Days from reaching 100 cases\",fontsize=24)\n",
    "\n",
    "sns.lineplot(x=\"Days_from_0\", y=\"Slope\", hue=\"Countries\", data=data_16_20, markers=True, hue_order=countries_16_20, legend=False, ax=axes[1, 1])\n",
    "texts = [axes[1, 1].text(max_cases.loc[str(country)]['Days_from_0'], slope_df.loc[str(country)]['Slope'].iloc[-1], str(country), fontsize=16, color=axes[1, 1].get_lines()[countries_16_20.index(country)].get_c(), ha = 'left', va = 'center') for country in countries_16_20]\n",
    "adjust_text(texts)\n",
    "axes[1, 1].set_xlabel(\"Days from reaching 100 cases\",fontsize=24)\n",
    "\n",
    "axes[0, 1].set_ylabel(\"\",fontsize=24)\n",
    "axes[1, 1].set_ylabel(\"\",fontsize=24)\n",
    "axes[0, 0].set_xlabel(\"\",fontsize=24)\n",
    "axes[0, 1].set_xlabel(\"\",fontsize=24)\n",
    "axes[0, 1].set_xlim([0, 200])\n",
    "axes[1, 1].set_xlim([0, 200])\n",
    "axes[0, 0].set_xlim([0, 200])\n",
    "axes[1, 0].set_xlim([0, 200])\n",
    "# axes[0, 0].set_yscale('log')\n",
    "# axes[0, 1].set_yscale('log')\n",
    "# axes[1, 0].set_yscale('log')\n",
    "# axes[1, 1].set_yscale('log')\n",
    "\n",
    "plt.savefig('covid_b_Infection_rate_profile.png')"
   ]
  },
  {
   "cell_type": "code",
   "execution_count": null,
   "metadata": {},
   "outputs": [],
   "source": []
  },
  {
   "cell_type": "code",
   "execution_count": null,
   "metadata": {},
   "outputs": [],
   "source": []
  }
 ],
 "metadata": {
  "kernelspec": {
   "display_name": "Python 3",
   "language": "python",
   "name": "python3"
  },
  "language_info": {
   "codemirror_mode": {
    "name": "ipython",
    "version": 3
   },
   "file_extension": ".py",
   "mimetype": "text/x-python",
   "name": "python",
   "nbconvert_exporter": "python",
   "pygments_lexer": "ipython3",
   "version": "3.7.9"
  }
 },
 "nbformat": 4,
 "nbformat_minor": 4
}
